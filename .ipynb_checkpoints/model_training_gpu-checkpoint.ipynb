{
 "cells": [
  {
   "cell_type": "markdown",
   "id": "quick-history",
   "metadata": {},
   "source": [
    "# Imports\n",
    "I made some necessary imports. Also, I imported the Preprocessing and TabularModel class from the directory."
   ]
  },
  {
   "cell_type": "code",
   "execution_count": 1,
   "id": "acute-laugh",
   "metadata": {},
   "outputs": [],
   "source": [
    "from Data_Preprocessing import Preprocessing\n",
    "from model import TabularModel\n",
    "import torch\n",
    "import torch.nn as nn\n",
    "import time\n",
    "from sklearn.pipeline import Pipeline\n",
    "import matplotlib.pyplot as plt\n",
    "%matplotlib inline"
   ]
  },
  {
   "cell_type": "markdown",
   "id": "possible-embassy",
   "metadata": {},
   "source": [
    "# Getting the data\n",
    "\n",
    "Next I created an object of the preprocessing class using the NYCTaxiFares.csv file and preprocessed the data. After that the data was split into half with 60,000 records in training and test set."
   ]
  },
  {
   "cell_type": "code",
   "execution_count": 14,
   "id": "republican-display",
   "metadata": {},
   "outputs": [
    {
     "name": "stdout",
     "output_type": "stream",
     "text": [
      "           pickup_datetime  fare_amount  fare_class  pickup_longitude  \\\n",
      "0  2010-04-19 08:17:56 UTC          6.5           0        -73.992365   \n",
      "1  2010-04-17 15:43:53 UTC          6.9           0        -73.990078   \n",
      "2  2010-04-17 11:23:26 UTC         10.1           1        -73.994149   \n",
      "3  2010-04-11 21:25:03 UTC          8.9           0        -73.990485   \n",
      "4  2010-04-17 02:19:01 UTC         19.7           1        -73.990976   \n",
      "\n",
      "   pickup_latitude  dropoff_longitude  dropoff_latitude  passenger_count  \\\n",
      "0        40.730521         -73.975499         40.744746                1   \n",
      "1        40.740558         -73.974232         40.744114                1   \n",
      "2        40.751118         -73.960064         40.766235                2   \n",
      "3        40.756422         -73.971205         40.748192                1   \n",
      "4        40.734202         -73.905956         40.743115                1   \n",
      "\n",
      "        dist_km             EDTdate Hour AMorPM Weekday  \n",
      "0  15079.107020 2010-04-19 04:17:56    4     am     Mon  \n",
      "1  15080.137050 2010-04-17 11:43:53   11     am     Sat  \n",
      "2  15081.392707 2010-04-17 07:23:26    7     am     Sat  \n",
      "3  15081.807631 2010-04-11 17:25:03   17     pm     Sun  \n",
      "4  15077.368737 2010-04-16 22:19:01   22     pm     Fri  \n",
      "Priniting embedding size.\n",
      "[(24, 12), (2, 1), (7, 4)]\n",
      "Printing number continuous variables.\n",
      "6\n"
     ]
    }
   ],
   "source": [
    "data_prep= Preprocessing('./Data/NYCTaxiFares.csv')\n",
    "data_prep.haversine_distance()\n",
    "data_prep.create_datetime_columns()\n",
    "data_prep.separate_columns()\n",
    "data_prep.split(60000)\n",
    "    \n",
    "print(data_prep.df.head())\n",
    "print('Priniting embedding size.')\n",
    "print(data_prep.emb_szs)\n",
    "print('Printing number continuous variables.')\n",
    "print(data_prep.conts.shape[1])\n",
    "    "
   ]
  },
  {
   "cell_type": "markdown",
   "id": "reduced-column",
   "metadata": {},
   "source": [
    "# Model creation\n",
    "\n",
    "Next an object of the TabularModel class was created as below. After that the model was configured to run on the GPU."
   ]
  },
  {
   "cell_type": "code",
   "execution_count": 3,
   "id": "oriented-liberty",
   "metadata": {},
   "outputs": [],
   "source": [
    "torch.manual_seed(33)\n",
    "model = TabularModel(data_prep.emb_szs, data_prep.conts.shape[1], 1, [200,100], p=0.4)"
   ]
  },
  {
   "cell_type": "code",
   "execution_count": 4,
   "id": "exact-garbage",
   "metadata": {},
   "outputs": [],
   "source": [
    "gpumodel = model.cuda()    # This configures the model to run on the GPU."
   ]
  },
  {
   "cell_type": "code",
   "execution_count": 5,
   "id": "democratic-potato",
   "metadata": {},
   "outputs": [
    {
     "data": {
      "text/plain": [
       "True"
      ]
     },
     "execution_count": 5,
     "metadata": {},
     "output_type": "execute_result"
    }
   ],
   "source": [
    "next(gpumodel.parameters()).is_cuda"
   ]
  },
  {
   "cell_type": "code",
   "execution_count": 6,
   "id": "physical-rugby",
   "metadata": {},
   "outputs": [
    {
     "data": {
      "text/plain": [
       "TabularModel(\n",
       "  (embeds): ModuleList(\n",
       "    (0): Embedding(24, 12)\n",
       "    (1): Embedding(2, 1)\n",
       "    (2): Embedding(7, 4)\n",
       "  )\n",
       "  (emb_drop): Dropout(p=0.4)\n",
       "  (bn_cont): BatchNorm1d(6, eps=1e-05, momentum=0.1, affine=True, track_running_stats=True)\n",
       "  (layers): Sequential(\n",
       "    (0): Linear(in_features=23, out_features=200, bias=True)\n",
       "    (1): ReLU(inplace)\n",
       "    (2): BatchNorm1d(200, eps=1e-05, momentum=0.1, affine=True, track_running_stats=True)\n",
       "    (3): Dropout(p=0.4)\n",
       "    (4): Linear(in_features=200, out_features=100, bias=True)\n",
       "    (5): ReLU(inplace)\n",
       "    (6): BatchNorm1d(100, eps=1e-05, momentum=0.1, affine=True, track_running_stats=True)\n",
       "    (7): Dropout(p=0.4)\n",
       "    (8): Linear(in_features=100, out_features=1, bias=True)\n",
       "  )\n",
       ")"
      ]
     },
     "execution_count": 6,
     "metadata": {},
     "output_type": "execute_result"
    }
   ],
   "source": [
    "gpumodel"
   ]
  },
  {
   "cell_type": "code",
   "execution_count": 7,
   "id": "accepting-funeral",
   "metadata": {},
   "outputs": [],
   "source": [
    "criterion = nn.MSELoss()  # we'll convert this to RMSE later\n",
    "optimizer = torch.optim.Adam(gpumodel.parameters(), lr=0.001)"
   ]
  },
  {
   "cell_type": "markdown",
   "id": "smaller-passion",
   "metadata": {},
   "source": [
    "# Model Training\n",
    "\n",
    "Before training the model the data was also configured to run on the GPU model.The model was then trained for 300 epochs. As can be seen from the below result there is a significant improvement on the training time."
   ]
  },
  {
   "cell_type": "code",
   "execution_count": 8,
   "id": "developed-rover",
   "metadata": {},
   "outputs": [],
   "source": [
    "con_train = data_prep.con_train.cuda()\n",
    "con_test = data_prep.con_test.cuda()\n",
    "cat_train = data_prep.cat_train.cuda()\n",
    "cat_test = data_prep.cat_test.cuda()\n",
    "y_train = data_prep.y_train.cuda()\n",
    "y_test = data_prep.y_test.cuda()"
   ]
  },
  {
   "cell_type": "code",
   "execution_count": 9,
   "id": "addressed-burning",
   "metadata": {},
   "outputs": [
    {
     "name": "stdout",
     "output_type": "stream",
     "text": [
      "epoch:   1  loss: 12.48470116\n",
      "epoch:  26  loss: 11.94215012\n",
      "epoch:  51  loss: 11.23084831\n",
      "epoch:  76  loss: 10.24981308\n",
      "epoch: 101  loss: 8.96088314\n",
      "epoch: 126  loss: 7.69401979\n",
      "epoch: 151  loss: 6.35632420\n",
      "epoch: 176  loss: 5.02204561\n",
      "epoch: 201  loss: 3.99857807\n",
      "epoch: 226  loss: 3.57824802\n",
      "epoch: 251  loss: 3.47136283\n",
      "epoch: 276  loss: 3.46045661\n",
      "epoch: 300  loss: 3.42554784\n",
      "\n",
      "Duration: 39 seconds\n"
     ]
    }
   ],
   "source": [
    "start_time = time.time()\n",
    "\n",
    "epochs = 300\n",
    "losses = []\n",
    "\n",
    "for i in range(epochs):\n",
    "    i+=1\n",
    "    y_pred = gpumodel(cat_train, con_train)\n",
    "    loss = torch.sqrt(criterion(y_pred, y_train)) # RMSE\n",
    "    losses.append(loss)\n",
    "    \n",
    "    # a neat trick to save screen space:\n",
    "    if i%25 == 1:\n",
    "        print(f'epoch: {i:3}  loss: {loss.item():10.8f}')\n",
    "\n",
    "    optimizer.zero_grad()\n",
    "    loss.backward()\n",
    "    optimizer.step()\n",
    "\n",
    "print(f'epoch: {i:3}  loss: {loss.item():10.8f}') # print the last line\n",
    "print(f'\\nDuration: {time.time() - start_time:.0f} seconds') # print the time elapsed"
   ]
  },
  {
   "cell_type": "markdown",
   "id": "funky-proof",
   "metadata": {},
   "source": [
    "The model loss over the epochs is shown below."
   ]
  },
  {
   "cell_type": "code",
   "execution_count": 10,
   "id": "effective-leonard",
   "metadata": {},
   "outputs": [
    {
     "data": {
      "image/png": "[encoded data removed]",
      "text/plain": [
       "<Figure size 432x288 with 1 Axes>"
      ]
     },
     "metadata": {
      "needs_background": "light"
     },
     "output_type": "display_data"
    }
   ],
   "source": [
    "plt.plot(range(epochs), losses)\n",
    "plt.ylabel('RMSE Loss')\n",
    "plt.xlabel('epoch');"
   ]
  },
  {
   "cell_type": "markdown",
   "id": "artistic-fighter",
   "metadata": {},
   "source": [
    "# Model Saving\n",
    "\n",
    "The model weights were saved after training as a .pt file."
   ]
  },
  {
   "cell_type": "code",
   "execution_count": 11,
   "id": "roman-dublin",
   "metadata": {},
   "outputs": [],
   "source": [
    "# Make sure to save the model only after the training has happened!\n",
    "if len(losses) == epochs:\n",
    "    torch.save(model.state_dict(), 'TaxiFareRegrModel.pt')\n",
    "else:\n",
    "    print('Model has not been trained. Consider loading a trained model instead.')"
   ]
  },
  {
   "cell_type": "markdown",
   "id": "rental-envelope",
   "metadata": {},
   "source": [
    "# Model Evaluation\n",
    "\n",
    "The model was evaluated on the RMSE. It gave a quite a good RMSE."
   ]
  },
  {
   "cell_type": "code",
   "execution_count": 12,
   "id": "expressed-murray",
   "metadata": {},
   "outputs": [
    {
     "name": "stdout",
     "output_type": "stream",
     "text": [
      "RMSE: 3.71393895\n"
     ]
    }
   ],
   "source": [
    "# TO EVALUATE THE ENTIRE TEST SET\n",
    "with torch.no_grad():\n",
    "    y_val = gpumodel(cat_test, con_test)\n",
    "    loss = torch.sqrt(criterion(y_val, y_test))\n",
    "print(f'RMSE: {loss:.8f}')"
   ]
  },
  {
   "cell_type": "code",
   "execution_count": null,
   "id": "confused-ethiopia",
   "metadata": {},
   "outputs": [],
   "source": []
  }
 ],
 "metadata": {
  "kernelspec": {
   "display_name": "Python 3",
   "language": "python",
   "name": "python3"
  },
  "language_info": {
   "codemirror_mode": {
    "name": "ipython",
    "version": 3
   },
   "file_extension": ".py",
   "mimetype": "text/x-python",
   "name": "python",
   "nbconvert_exporter": "python",
   "pygments_lexer": "ipython3",
   "version": "3.7.3"
  }
 },
 "nbformat": 4,
 "nbformat_minor": 5
}
